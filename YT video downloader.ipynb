{
 "cells": [
  {
   "cell_type": "code",
   "execution_count": 1,
   "id": "9dbfb027",
   "metadata": {},
   "outputs": [
    {
     "name": "stdout",
     "output_type": "stream",
     "text": [
      "Collecting pytube\n",
      "  Downloading pytube-12.1.2-py3-none-any.whl (57 kB)\n",
      "Installing collected packages: pytube\n",
      "Successfully installed pytube-12.1.2\n",
      "Note: you may need to restart the kernel to use updated packages.\n"
     ]
    }
   ],
   "source": [
    "pip install pytube"
   ]
  },
  {
   "cell_type": "code",
   "execution_count": 2,
   "id": "692ffb43",
   "metadata": {},
   "outputs": [],
   "source": [
    "import pytube"
   ]
  },
  {
   "cell_type": "code",
   "execution_count": 3,
   "id": "e72aa5ed",
   "metadata": {},
   "outputs": [
    {
     "name": "stdout",
     "output_type": "stream",
     "text": [
      "Enter the YouTube video URLhttps://youtu.be/bL4Yr3Npxr8\n",
      "Downloaded https://youtu.be/bL4Yr3Npxr8\n"
     ]
    }
   ],
   "source": [
    "link = input(\"Enter the YouTube video URL\")\n",
    "yt = pytube.YouTube(link)\n",
    "yt.streams.first().download()\n",
    "print('Downloaded', link)"
   ]
  },
  {
   "cell_type": "code",
   "execution_count": null,
   "id": "92bade3b",
   "metadata": {},
   "outputs": [],
   "source": []
  }
 ],
 "metadata": {
  "kernelspec": {
   "display_name": "Python 3",
   "language": "python",
   "name": "python3"
  },
  "language_info": {
   "codemirror_mode": {
    "name": "ipython",
    "version": 3
   },
   "file_extension": ".py",
   "mimetype": "text/x-python",
   "name": "python",
   "nbconvert_exporter": "python",
   "pygments_lexer": "ipython3",
   "version": "3.10.4 (tags/v3.10.4:9d38120, Mar 23 2022, 23:13:41) [MSC v.1929 64 bit (AMD64)]"
  },
  "vscode": {
   "interpreter": {
    "hash": "579ad7815af58c5fe27db83faa04c39d71c63758c7078c413d65bd8608f40610"
   }
  }
 },
 "nbformat": 4,
 "nbformat_minor": 5
}
